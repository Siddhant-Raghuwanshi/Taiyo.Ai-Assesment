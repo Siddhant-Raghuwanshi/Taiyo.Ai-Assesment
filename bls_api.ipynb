{
 "cells": [
  {
   "cell_type": "code",
   "execution_count": 2,
   "id": "1485083f",
   "metadata": {},
   "outputs": [],
   "source": [
    "import requests \n",
    "import json\n",
    "import os"
   ]
  },
  {
   "cell_type": "code",
   "execution_count": 3,
   "id": "fdfc6d0c",
   "metadata": {},
   "outputs": [
    {
     "name": "stdout",
     "output_type": "stream",
     "text": [
      "Program is Running please wait.\n",
      "Program completed please check the destination for file\n"
     ]
    }
   ],
   "source": [
    "class bls_api:\n",
    "    \n",
    "    \"\"\"\n",
    "    \n",
    "    \n",
    "    \"\"\"\n",
    "\n",
    "    def __init__(self, parameters, json_file_org):\n",
    "\n",
    "        json_file = open(json_file_org, 'w', encoding='utf-8')\n",
    "        self.get_data(parameters, json_file)\n",
    "        json_file.close()\n",
    "\n",
    "    def get_data(self, parameters, json_file):\n",
    "\n",
    "\n",
    "        headers = {'Content-type': 'application/json'}\n",
    " \n",
    "        response = requests.post('https://api.bls.gov/publicAPI/v2/timeseries/data/', data = parameters, headers = headers)\n",
    "\n",
    "        if response.status_code != 200:\n",
    "            \n",
    "            raise ApiError('GET /tasks/ {}'.format(resp.status_code))\n",
    "       \n",
    "        json.dump(response.json(), json_file, indent = 6)\n",
    "print(\"Program is Running please wait.\")\n",
    "\n",
    "\n",
    "\n",
    "import os\n",
    "key=os.environ.get('bls_api_key')\n",
    "parameters = json.dumps({\"registrationkey\":\"9152dab45cdd4fd3a987932a4b988980\", \"seriesid\":['CUUR0000SA0'], \"startyear\":\"2002\", \"endyear\":\"2021\", \"calculations\":\"true\"})\n",
    "\n",
    "\n",
    "bls_api(parameters, \"D:\\Taiyo.Ai Assesment/cpi_data_report.json\")\n",
    "\n",
    "print(\"Program completed please check the destination for file\")"
   ]
  },
  {
   "cell_type": "code",
   "execution_count": null,
   "id": "2e1add95",
   "metadata": {},
   "outputs": [],
   "source": []
  },
  {
   "cell_type": "code",
   "execution_count": null,
   "id": "4f08bcfa",
   "metadata": {},
   "outputs": [],
   "source": []
  },
  {
   "cell_type": "code",
   "execution_count": null,
   "id": "17c396b2",
   "metadata": {},
   "outputs": [],
   "source": []
  },
  {
   "cell_type": "code",
   "execution_count": null,
   "id": "3c947034",
   "metadata": {},
   "outputs": [],
   "source": []
  },
  {
   "cell_type": "code",
   "execution_count": null,
   "id": "f340ac72",
   "metadata": {},
   "outputs": [],
   "source": []
  }
 ],
 "metadata": {
  "kernelspec": {
   "display_name": "Python 3 (ipykernel)",
   "language": "python",
   "name": "python3"
  },
  "language_info": {
   "codemirror_mode": {
    "name": "ipython",
    "version": 3
   },
   "file_extension": ".py",
   "mimetype": "text/x-python",
   "name": "python",
   "nbconvert_exporter": "python",
   "pygments_lexer": "ipython3",
   "version": "3.9.7"
  }
 },
 "nbformat": 4,
 "nbformat_minor": 5
}
